{
  "nbformat": 4,
  "nbformat_minor": 0,
  "metadata": {
    "colab": {
      "provenance": [],
      "mount_file_id": "1M3OsFMWvrPT_sU0hYfn92gqQ4cy1JuFM",
      "authorship_tag": "ABX9TyNvLTN90gsA9mcqv6ltPPC6",
      "include_colab_link": true
    },
    "kernelspec": {
      "name": "python3",
      "display_name": "Python 3"
    },
    "language_info": {
      "name": "python"
    }
  },
  "cells": [
    {
      "cell_type": "markdown",
      "metadata": {
        "id": "view-in-github",
        "colab_type": "text"
      },
      "source": [
        "<a href=\"https://colab.research.google.com/github/Yash404007/Plastic-Detection/blob/main/plasticdetection.ipynb\" target=\"_parent\"><img src=\"https://colab.research.google.com/assets/colab-badge.svg\" alt=\"Open In Colab\"/></a>"
      ]
    },
    {
      "cell_type": "code",
      "execution_count": null,
      "metadata": {
        "colab": {
          "base_uri": "https://localhost:8080/"
        },
        "id": "QRSPln_htM_e",
        "outputId": "8f10feec-19bf-4002-bb52-fa77fd60d07f"
      },
      "outputs": [
        {
          "output_type": "stream",
          "name": "stdout",
          "text": [
            "Collecting ultralytics\n",
            "  Downloading ultralytics-8.3.73-py3-none-any.whl.metadata (35 kB)\n",
            "Requirement already satisfied: numpy<=2.1.1,>=1.23.0 in /usr/local/lib/python3.11/dist-packages (from ultralytics) (1.26.4)\n",
            "Requirement already satisfied: matplotlib>=3.3.0 in /usr/local/lib/python3.11/dist-packages (from ultralytics) (3.10.0)\n",
            "Requirement already satisfied: opencv-python>=4.6.0 in /usr/local/lib/python3.11/dist-packages (from ultralytics) (4.11.0.86)\n",
            "Requirement already satisfied: pillow>=7.1.2 in /usr/local/lib/python3.11/dist-packages (from ultralytics) (11.1.0)\n",
            "Requirement already satisfied: pyyaml>=5.3.1 in /usr/local/lib/python3.11/dist-packages (from ultralytics) (6.0.2)\n",
            "Requirement already satisfied: requests>=2.23.0 in /usr/local/lib/python3.11/dist-packages (from ultralytics) (2.32.3)\n",
            "Requirement already satisfied: scipy>=1.4.1 in /usr/local/lib/python3.11/dist-packages (from ultralytics) (1.13.1)\n",
            "Requirement already satisfied: torch>=1.8.0 in /usr/local/lib/python3.11/dist-packages (from ultralytics) (2.5.1+cu124)\n",
            "Requirement already satisfied: torchvision>=0.9.0 in /usr/local/lib/python3.11/dist-packages (from ultralytics) (0.20.1+cu124)\n",
            "Requirement already satisfied: tqdm>=4.64.0 in /usr/local/lib/python3.11/dist-packages (from ultralytics) (4.67.1)\n",
            "Requirement already satisfied: psutil in /usr/local/lib/python3.11/dist-packages (from ultralytics) (5.9.5)\n",
            "Requirement already satisfied: py-cpuinfo in /usr/local/lib/python3.11/dist-packages (from ultralytics) (9.0.0)\n",
            "Requirement already satisfied: pandas>=1.1.4 in /usr/local/lib/python3.11/dist-packages (from ultralytics) (2.2.2)\n",
            "Requirement already satisfied: seaborn>=0.11.0 in /usr/local/lib/python3.11/dist-packages (from ultralytics) (0.13.2)\n",
            "Collecting ultralytics-thop>=2.0.0 (from ultralytics)\n",
            "  Downloading ultralytics_thop-2.0.14-py3-none-any.whl.metadata (9.4 kB)\n",
            "Requirement already satisfied: contourpy>=1.0.1 in /usr/local/lib/python3.11/dist-packages (from matplotlib>=3.3.0->ultralytics) (1.3.1)\n",
            "Requirement already satisfied: cycler>=0.10 in /usr/local/lib/python3.11/dist-packages (from matplotlib>=3.3.0->ultralytics) (0.12.1)\n",
            "Requirement already satisfied: fonttools>=4.22.0 in /usr/local/lib/python3.11/dist-packages (from matplotlib>=3.3.0->ultralytics) (4.55.8)\n",
            "Requirement already satisfied: kiwisolver>=1.3.1 in /usr/local/lib/python3.11/dist-packages (from matplotlib>=3.3.0->ultralytics) (1.4.8)\n",
            "Requirement already satisfied: packaging>=20.0 in /usr/local/lib/python3.11/dist-packages (from matplotlib>=3.3.0->ultralytics) (24.2)\n",
            "Requirement already satisfied: pyparsing>=2.3.1 in /usr/local/lib/python3.11/dist-packages (from matplotlib>=3.3.0->ultralytics) (3.2.1)\n",
            "Requirement already satisfied: python-dateutil>=2.7 in /usr/local/lib/python3.11/dist-packages (from matplotlib>=3.3.0->ultralytics) (2.8.2)\n",
            "Requirement already satisfied: pytz>=2020.1 in /usr/local/lib/python3.11/dist-packages (from pandas>=1.1.4->ultralytics) (2025.1)\n",
            "Requirement already satisfied: tzdata>=2022.7 in /usr/local/lib/python3.11/dist-packages (from pandas>=1.1.4->ultralytics) (2025.1)\n",
            "Requirement already satisfied: charset-normalizer<4,>=2 in /usr/local/lib/python3.11/dist-packages (from requests>=2.23.0->ultralytics) (3.4.1)\n",
            "Requirement already satisfied: idna<4,>=2.5 in /usr/local/lib/python3.11/dist-packages (from requests>=2.23.0->ultralytics) (3.10)\n",
            "Requirement already satisfied: urllib3<3,>=1.21.1 in /usr/local/lib/python3.11/dist-packages (from requests>=2.23.0->ultralytics) (2.3.0)\n",
            "Requirement already satisfied: certifi>=2017.4.17 in /usr/local/lib/python3.11/dist-packages (from requests>=2.23.0->ultralytics) (2025.1.31)\n",
            "Requirement already satisfied: filelock in /usr/local/lib/python3.11/dist-packages (from torch>=1.8.0->ultralytics) (3.17.0)\n",
            "Requirement already satisfied: typing-extensions>=4.8.0 in /usr/local/lib/python3.11/dist-packages (from torch>=1.8.0->ultralytics) (4.12.2)\n",
            "Requirement already satisfied: networkx in /usr/local/lib/python3.11/dist-packages (from torch>=1.8.0->ultralytics) (3.4.2)\n",
            "Requirement already satisfied: jinja2 in /usr/local/lib/python3.11/dist-packages (from torch>=1.8.0->ultralytics) (3.1.5)\n",
            "Requirement already satisfied: fsspec in /usr/local/lib/python3.11/dist-packages (from torch>=1.8.0->ultralytics) (2024.10.0)\n",
            "Collecting nvidia-cuda-nvrtc-cu12==12.4.127 (from torch>=1.8.0->ultralytics)\n",
            "  Downloading nvidia_cuda_nvrtc_cu12-12.4.127-py3-none-manylinux2014_x86_64.whl.metadata (1.5 kB)\n",
            "Collecting nvidia-cuda-runtime-cu12==12.4.127 (from torch>=1.8.0->ultralytics)\n",
            "  Downloading nvidia_cuda_runtime_cu12-12.4.127-py3-none-manylinux2014_x86_64.whl.metadata (1.5 kB)\n",
            "Collecting nvidia-cuda-cupti-cu12==12.4.127 (from torch>=1.8.0->ultralytics)\n",
            "  Downloading nvidia_cuda_cupti_cu12-12.4.127-py3-none-manylinux2014_x86_64.whl.metadata (1.6 kB)\n",
            "Collecting nvidia-cudnn-cu12==9.1.0.70 (from torch>=1.8.0->ultralytics)\n",
            "  Downloading nvidia_cudnn_cu12-9.1.0.70-py3-none-manylinux2014_x86_64.whl.metadata (1.6 kB)\n",
            "Collecting nvidia-cublas-cu12==12.4.5.8 (from torch>=1.8.0->ultralytics)\n",
            "  Downloading nvidia_cublas_cu12-12.4.5.8-py3-none-manylinux2014_x86_64.whl.metadata (1.5 kB)\n",
            "Collecting nvidia-cufft-cu12==11.2.1.3 (from torch>=1.8.0->ultralytics)\n",
            "  Downloading nvidia_cufft_cu12-11.2.1.3-py3-none-manylinux2014_x86_64.whl.metadata (1.5 kB)\n",
            "Collecting nvidia-curand-cu12==10.3.5.147 (from torch>=1.8.0->ultralytics)\n",
            "  Downloading nvidia_curand_cu12-10.3.5.147-py3-none-manylinux2014_x86_64.whl.metadata (1.5 kB)\n",
            "Collecting nvidia-cusolver-cu12==11.6.1.9 (from torch>=1.8.0->ultralytics)\n",
            "  Downloading nvidia_cusolver_cu12-11.6.1.9-py3-none-manylinux2014_x86_64.whl.metadata (1.6 kB)\n",
            "Collecting nvidia-cusparse-cu12==12.3.1.170 (from torch>=1.8.0->ultralytics)\n",
            "  Downloading nvidia_cusparse_cu12-12.3.1.170-py3-none-manylinux2014_x86_64.whl.metadata (1.6 kB)\n",
            "Requirement already satisfied: nvidia-nccl-cu12==2.21.5 in /usr/local/lib/python3.11/dist-packages (from torch>=1.8.0->ultralytics) (2.21.5)\n",
            "Requirement already satisfied: nvidia-nvtx-cu12==12.4.127 in /usr/local/lib/python3.11/dist-packages (from torch>=1.8.0->ultralytics) (12.4.127)\n",
            "Collecting nvidia-nvjitlink-cu12==12.4.127 (from torch>=1.8.0->ultralytics)\n",
            "  Downloading nvidia_nvjitlink_cu12-12.4.127-py3-none-manylinux2014_x86_64.whl.metadata (1.5 kB)\n",
            "Requirement already satisfied: triton==3.1.0 in /usr/local/lib/python3.11/dist-packages (from torch>=1.8.0->ultralytics) (3.1.0)\n",
            "Requirement already satisfied: sympy==1.13.1 in /usr/local/lib/python3.11/dist-packages (from torch>=1.8.0->ultralytics) (1.13.1)\n",
            "Requirement already satisfied: mpmath<1.4,>=1.1.0 in /usr/local/lib/python3.11/dist-packages (from sympy==1.13.1->torch>=1.8.0->ultralytics) (1.3.0)\n",
            "Requirement already satisfied: six>=1.5 in /usr/local/lib/python3.11/dist-packages (from python-dateutil>=2.7->matplotlib>=3.3.0->ultralytics) (1.17.0)\n",
            "Requirement already satisfied: MarkupSafe>=2.0 in /usr/local/lib/python3.11/dist-packages (from jinja2->torch>=1.8.0->ultralytics) (3.0.2)\n",
            "Downloading ultralytics-8.3.73-py3-none-any.whl (914 kB)\n",
            "\u001b[2K   \u001b[90m━━━━━━━━━━━━━━━━━━━━━━━━━━━━━━━━━━━━━━━━\u001b[0m \u001b[32m914.6/914.6 kB\u001b[0m \u001b[31m32.2 MB/s\u001b[0m eta \u001b[36m0:00:00\u001b[0m\n",
            "\u001b[?25hDownloading nvidia_cublas_cu12-12.4.5.8-py3-none-manylinux2014_x86_64.whl (363.4 MB)\n",
            "\u001b[2K   \u001b[90m━━━━━━━━━━━━━━━━━━━━━━━━━━━━━━━━━━━━━━━━\u001b[0m \u001b[32m363.4/363.4 MB\u001b[0m \u001b[31m4.5 MB/s\u001b[0m eta \u001b[36m0:00:00\u001b[0m\n",
            "\u001b[?25hDownloading nvidia_cuda_cupti_cu12-12.4.127-py3-none-manylinux2014_x86_64.whl (13.8 MB)\n",
            "\u001b[2K   \u001b[90m━━━━━━━━━━━━━━━━━━━━━━━━━━━━━━━━━━━━━━━━\u001b[0m \u001b[32m13.8/13.8 MB\u001b[0m \u001b[31m45.4 MB/s\u001b[0m eta \u001b[36m0:00:00\u001b[0m\n",
            "\u001b[?25hDownloading nvidia_cuda_nvrtc_cu12-12.4.127-py3-none-manylinux2014_x86_64.whl (24.6 MB)\n",
            "\u001b[2K   \u001b[90m━━━━━━━━━━━━━━━━━━━━━━━━━━━━━━━━━━━━━━━━\u001b[0m \u001b[32m24.6/24.6 MB\u001b[0m \u001b[31m56.0 MB/s\u001b[0m eta \u001b[36m0:00:00\u001b[0m\n",
            "\u001b[?25hDownloading nvidia_cuda_runtime_cu12-12.4.127-py3-none-manylinux2014_x86_64.whl (883 kB)\n",
            "\u001b[2K   \u001b[90m━━━━━━━━━━━━━━━━━━━━━━━━━━━━━━━━━━━━━━━━\u001b[0m \u001b[32m883.7/883.7 kB\u001b[0m \u001b[31m37.3 MB/s\u001b[0m eta \u001b[36m0:00:00\u001b[0m\n",
            "\u001b[?25hDownloading nvidia_cudnn_cu12-9.1.0.70-py3-none-manylinux2014_x86_64.whl (664.8 MB)\n",
            "\u001b[2K   \u001b[90m━━━━━━━━━━━━━━━━━━━━━━━━━━━━━━━━━━━━━━━━\u001b[0m \u001b[32m664.8/664.8 MB\u001b[0m \u001b[31m1.0 MB/s\u001b[0m eta \u001b[36m0:00:00\u001b[0m\n",
            "\u001b[?25hDownloading nvidia_cufft_cu12-11.2.1.3-py3-none-manylinux2014_x86_64.whl (211.5 MB)\n",
            "\u001b[2K   \u001b[90m━━━━━━━━━━━━━━━━━━━━━━━━━━━━━━━━━━━━━━━━\u001b[0m \u001b[32m211.5/211.5 MB\u001b[0m \u001b[31m6.2 MB/s\u001b[0m eta \u001b[36m0:00:00\u001b[0m\n",
            "\u001b[?25hDownloading nvidia_curand_cu12-10.3.5.147-py3-none-manylinux2014_x86_64.whl (56.3 MB)\n",
            "\u001b[2K   \u001b[90m━━━━━━━━━━━━━━━━━━━━━━━━━━━━━━━━━━━━━━━━\u001b[0m \u001b[32m56.3/56.3 MB\u001b[0m \u001b[31m12.4 MB/s\u001b[0m eta \u001b[36m0:00:00\u001b[0m\n",
            "\u001b[?25hDownloading nvidia_cusolver_cu12-11.6.1.9-py3-none-manylinux2014_x86_64.whl (127.9 MB)\n",
            "\u001b[2K   \u001b[90m━━━━━━━━━━━━━━━━━━━━━━━━━━━━━━━━━━━━━━━━\u001b[0m \u001b[32m127.9/127.9 MB\u001b[0m \u001b[31m7.4 MB/s\u001b[0m eta \u001b[36m0:00:00\u001b[0m\n",
            "\u001b[?25hDownloading nvidia_cusparse_cu12-12.3.1.170-py3-none-manylinux2014_x86_64.whl (207.5 MB)\n",
            "\u001b[2K   \u001b[90m━━━━━━━━━━━━━━━━━━━━━━━━━━━━━━━━━━━━━━━━\u001b[0m \u001b[32m207.5/207.5 MB\u001b[0m \u001b[31m5.2 MB/s\u001b[0m eta \u001b[36m0:00:00\u001b[0m\n",
            "\u001b[?25hDownloading nvidia_nvjitlink_cu12-12.4.127-py3-none-manylinux2014_x86_64.whl (21.1 MB)\n",
            "\u001b[2K   \u001b[90m━━━━━━━━━━━━━━━━━━━━━━━━━━━━━━━━━━━━━━━━\u001b[0m \u001b[32m21.1/21.1 MB\u001b[0m \u001b[31m51.9 MB/s\u001b[0m eta \u001b[36m0:00:00\u001b[0m\n",
            "\u001b[?25hDownloading ultralytics_thop-2.0.14-py3-none-any.whl (26 kB)\n",
            "Installing collected packages: nvidia-nvjitlink-cu12, nvidia-curand-cu12, nvidia-cufft-cu12, nvidia-cuda-runtime-cu12, nvidia-cuda-nvrtc-cu12, nvidia-cuda-cupti-cu12, nvidia-cublas-cu12, nvidia-cusparse-cu12, nvidia-cudnn-cu12, nvidia-cusolver-cu12, ultralytics-thop, ultralytics\n",
            "  Attempting uninstall: nvidia-nvjitlink-cu12\n",
            "    Found existing installation: nvidia-nvjitlink-cu12 12.5.82\n",
            "    Uninstalling nvidia-nvjitlink-cu12-12.5.82:\n",
            "      Successfully uninstalled nvidia-nvjitlink-cu12-12.5.82\n",
            "  Attempting uninstall: nvidia-curand-cu12\n",
            "    Found existing installation: nvidia-curand-cu12 10.3.6.82\n",
            "    Uninstalling nvidia-curand-cu12-10.3.6.82:\n",
            "      Successfully uninstalled nvidia-curand-cu12-10.3.6.82\n",
            "  Attempting uninstall: nvidia-cufft-cu12\n",
            "    Found existing installation: nvidia-cufft-cu12 11.2.3.61\n",
            "    Uninstalling nvidia-cufft-cu12-11.2.3.61:\n",
            "      Successfully uninstalled nvidia-cufft-cu12-11.2.3.61\n",
            "  Attempting uninstall: nvidia-cuda-runtime-cu12\n",
            "    Found existing installation: nvidia-cuda-runtime-cu12 12.5.82\n",
            "    Uninstalling nvidia-cuda-runtime-cu12-12.5.82:\n",
            "      Successfully uninstalled nvidia-cuda-runtime-cu12-12.5.82\n",
            "  Attempting uninstall: nvidia-cuda-nvrtc-cu12\n",
            "    Found existing installation: nvidia-cuda-nvrtc-cu12 12.5.82\n",
            "    Uninstalling nvidia-cuda-nvrtc-cu12-12.5.82:\n",
            "      Successfully uninstalled nvidia-cuda-nvrtc-cu12-12.5.82\n",
            "  Attempting uninstall: nvidia-cuda-cupti-cu12\n",
            "    Found existing installation: nvidia-cuda-cupti-cu12 12.5.82\n",
            "    Uninstalling nvidia-cuda-cupti-cu12-12.5.82:\n",
            "      Successfully uninstalled nvidia-cuda-cupti-cu12-12.5.82\n",
            "  Attempting uninstall: nvidia-cublas-cu12\n",
            "    Found existing installation: nvidia-cublas-cu12 12.5.3.2\n",
            "    Uninstalling nvidia-cublas-cu12-12.5.3.2:\n",
            "      Successfully uninstalled nvidia-cublas-cu12-12.5.3.2\n",
            "  Attempting uninstall: nvidia-cusparse-cu12\n",
            "    Found existing installation: nvidia-cusparse-cu12 12.5.1.3\n",
            "    Uninstalling nvidia-cusparse-cu12-12.5.1.3:\n",
            "      Successfully uninstalled nvidia-cusparse-cu12-12.5.1.3\n",
            "  Attempting uninstall: nvidia-cudnn-cu12\n",
            "    Found existing installation: nvidia-cudnn-cu12 9.3.0.75\n",
            "    Uninstalling nvidia-cudnn-cu12-9.3.0.75:\n",
            "      Successfully uninstalled nvidia-cudnn-cu12-9.3.0.75\n",
            "  Attempting uninstall: nvidia-cusolver-cu12\n",
            "    Found existing installation: nvidia-cusolver-cu12 11.6.3.83\n",
            "    Uninstalling nvidia-cusolver-cu12-11.6.3.83:\n",
            "      Successfully uninstalled nvidia-cusolver-cu12-11.6.3.83\n",
            "Successfully installed nvidia-cublas-cu12-12.4.5.8 nvidia-cuda-cupti-cu12-12.4.127 nvidia-cuda-nvrtc-cu12-12.4.127 nvidia-cuda-runtime-cu12-12.4.127 nvidia-cudnn-cu12-9.1.0.70 nvidia-cufft-cu12-11.2.1.3 nvidia-curand-cu12-10.3.5.147 nvidia-cusolver-cu12-11.6.1.9 nvidia-cusparse-cu12-12.3.1.170 nvidia-nvjitlink-cu12-12.4.127 ultralytics-8.3.73 ultralytics-thop-2.0.14\n"
          ]
        }
      ],
      "source": [
        "pip install ultralytics"
      ]
    },
    {
      "cell_type": "code",
      "source": [
        "import ultralytics"
      ],
      "metadata": {
        "colab": {
          "base_uri": "https://localhost:8080/"
        },
        "id": "0Jd1WoUitRTB",
        "outputId": "78a7d015-1238-41f9-d2e6-6617279568c8"
      },
      "execution_count": null,
      "outputs": [
        {
          "output_type": "stream",
          "name": "stdout",
          "text": [
            "Creating new Ultralytics Settings v0.0.6 file ✅ \n",
            "View Ultralytics Settings with 'yolo settings' or at '/root/.config/Ultralytics/settings.json'\n",
            "Update Settings with 'yolo settings key=value', i.e. 'yolo settings runs_dir=path/to/dir'. For help see https://docs.ultralytics.com/quickstart/#ultralytics-settings.\n"
          ]
        }
      ]
    },
    {
      "cell_type": "code",
      "source": [
        "from ultralytics import YOLO"
      ],
      "metadata": {
        "id": "PWkmt-LYt6_w"
      },
      "execution_count": null,
      "outputs": []
    },
    {
      "cell_type": "code",
      "source": [
        "from IPython import display\n",
        "display.clear_output()"
      ],
      "metadata": {
        "id": "ubaodEA5uRn8"
      },
      "execution_count": null,
      "outputs": []
    },
    {
      "cell_type": "code",
      "source": [
        "import cv2\n",
        "import torch"
      ],
      "metadata": {
        "id": "Fl6ZfD74uSO-"
      },
      "execution_count": null,
      "outputs": []
    },
    {
      "cell_type": "code",
      "source": [
        "%cd /content/drive/MyDrive/data"
      ],
      "metadata": {
        "colab": {
          "base_uri": "https://localhost:8080/"
        },
        "id": "VdH5vIChuaLu",
        "outputId": "f410e462-2945-4bb8-cfce-2d99f7ec8e19"
      },
      "execution_count": null,
      "outputs": [
        {
          "output_type": "stream",
          "name": "stdout",
          "text": [
            "/content/drive/MyDrive/data\n"
          ]
        }
      ]
    },
    {
      "cell_type": "code",
      "source": [
        "ls"
      ],
      "metadata": {
        "colab": {
          "base_uri": "https://localhost:8080/"
        },
        "id": "ff_B3ldouqQF",
        "outputId": "29b903e6-bd71-43e6-d17f-dda1564127e8"
      },
      "execution_count": null,
      "outputs": [
        {
          "output_type": "stream",
          "name": "stdout",
          "text": [
            "data.yaml  \u001b[0m\u001b[01;34mruns\u001b[0m/  \u001b[01;34mtest\u001b[0m/  \u001b[01;34mtrain\u001b[0m/  \u001b[01;34mvalid\u001b[0m/  yolov8n.pt\n"
          ]
        }
      ]
    },
    {
      "cell_type": "code",
      "source": [
        "!yolo task=detect mode=train model=yolov8n.pt data= data.yaml epochs=15 imgsz=640 plots=True"
      ],
      "metadata": {
        "colab": {
          "base_uri": "https://localhost:8080/"
        },
        "id": "shoWwrqZurx6",
        "outputId": "769b21e0-ff96-454b-c18d-c02fb20d1685"
      },
      "execution_count": null,
      "outputs": [
        {
          "output_type": "stream",
          "name": "stdout",
          "text": [
            "/bin/bash: line 1: yolo: command not found\n"
          ]
        }
      ]
    },
    {
      "cell_type": "code",
      "source": [
        "   !yolo task=detect mode=val model=runs/detect/train/weights/best.pt data=data.yaml"
      ],
      "metadata": {
        "colab": {
          "base_uri": "https://localhost:8080/"
        },
        "id": "Lod0t1rauyXx",
        "outputId": "54a0f422-1c65-413d-e298-a8480accd286"
      },
      "execution_count": null,
      "outputs": [
        {
          "output_type": "stream",
          "name": "stdout",
          "text": [
            "Ultralytics 8.3.73 🚀 Python-3.11.11 torch-2.5.1+cu124 CPU (Intel Xeon 2.20GHz)\n",
            "Model summary (fused): 168 layers, 3,005,843 parameters, 0 gradients, 8.1 GFLOPs\n",
            "Downloading https://ultralytics.com/assets/Arial.ttf to '/root/.config/Ultralytics/Arial.ttf'...\n",
            "100% 755k/755k [00:00<00:00, 36.0MB/s]\n",
            "\u001b[34m\u001b[1mval: \u001b[0mScanning /content/drive/MyDrive/data/valid/labels.cache... 143 images, 4 backgrounds, 0 corrupt: 100% 143/143 [00:00<?, ?it/s]\n",
            "                 Class     Images  Instances      Box(P          R      mAP50  mAP50-95): 100% 9/9 [00:52<00:00,  5.85s/it]\n",
            "                   all        143        139      0.921      0.925      0.945      0.797\n",
            "Speed: 9.7ms preprocess, 320.6ms inference, 0.0ms loss, 2.1ms postprocess per image\n",
            "Results saved to \u001b[1mruns/detect/val\u001b[0m\n",
            "💡 Learn more at https://docs.ultralytics.com/modes/val\n"
          ]
        }
      ]
    },
    {
      "cell_type": "code",
      "source": [
        "model = YOLO(\"runs/detect/train/weights/best.pt\")"
      ],
      "metadata": {
        "id": "XepjYgJtUoQ7"
      },
      "execution_count": null,
      "outputs": []
    },
    {
      "cell_type": "code",
      "source": [
        "# Open Webcam\n",
        "cap = cv2.VideoCapture(0)\n",
        "\n",
        "while cap.isOpened():\n",
        "    ret, frame = cap.read()\n",
        "    if not ret:\n",
        "        break\n",
        "\n",
        "    # Run YOLOv8 on the frame\n",
        "    results = model(frame)\n",
        "\n",
        "    # Visualize results\n",
        "    for r in results:\n",
        "        for box in r.boxes:\n",
        "            x1, y1, x2, y2 = map(int, box.xyxy[0])  # Bounding box coordinates\n",
        "            conf = box.conf[0]  # Confidence score\n",
        "            cls = int(box.cls[0])  # Class ID\n",
        "\n",
        "            # Draw bounding box\n",
        "            cv2.rectangle(frame, (x1, y1), (x2, y2), (0, 255, 0), 2)\n",
        "            label = f\"Plastic: {conf:.2f}\"\n",
        "            cv2.putText(frame, label, (x1, y1 - 10), cv2.FONT_HERSHEY_SIMPLEX, 0.5, (0, 255, 0), 2)\n",
        "\n",
        "    # Display the frame\n",
        "    cv2.imshow(\"Plastic Detection\", frame)\n",
        "\n",
        "    # Press 'q' to exit\n",
        "    if cv2.waitKey(1) & 0xFF == ord('q'):\n",
        "        break\n",
        "\n",
        "cap.release()\n",
        "cv2.destroyAllWindows()\n"
      ],
      "metadata": {
        "id": "zfbCf4_pVGa6"
      },
      "execution_count": null,
      "outputs": []
    },
    {
      "cell_type": "code",
      "source": [
        "!python detect.py"
      ],
      "metadata": {
        "colab": {
          "base_uri": "https://localhost:8080/"
        },
        "id": "fzy88JI5VL2K",
        "outputId": "cd04cd5c-58e4-4dc0-a64c-f88b37126d16"
      },
      "execution_count": null,
      "outputs": [
        {
          "output_type": "stream",
          "name": "stdout",
          "text": [
            "[ WARN:0@1.377] global cap_v4l.cpp:913 open VIDEOIO(V4L2:/dev/video2): can't open camera by index\n",
            "[ERROR:0@1.378] global obsensor_uvc_stream_channel.cpp:158 getStreamChannelGroup Camera index out of range\n"
          ]
        }
      ]
    },
    {
      "cell_type": "code",
      "source": [
        "pip install opencv-python\n"
      ],
      "metadata": {
        "colab": {
          "base_uri": "https://localhost:8080/"
        },
        "id": "Fmp3ggopVPGG",
        "outputId": "afcf2447-1d4f-4cce-803a-6185b22961fa"
      },
      "execution_count": null,
      "outputs": [
        {
          "output_type": "stream",
          "name": "stdout",
          "text": [
            "Requirement already satisfied: opencv-python in /usr/local/lib/python3.11/dist-packages (4.11.0.86)\n",
            "Requirement already satisfied: numpy>=1.21.2 in /usr/local/lib/python3.11/dist-packages (from opencv-python) (1.26.4)\n"
          ]
        }
      ]
    },
    {
      "cell_type": "code",
      "source": [
        "%%writefile /content/drive/MyDrive/data/detect.py\n",
        "from ultralytics import YOLO\n",
        "import cv2\n",
        "\n",
        "# Load your trained YOLO model (Replace with the correct path)\n",
        "model = YOLO(\"/content/drive/MyDrive/data/runs/detect/train/weights/best.pt\")\n",
        "\n",
        "# Open webcam\n",
        "cap = cv2.VideoCapture(2)\n",
        "\n",
        "while cap.isOpened():\n",
        "    ret, frame = cap.read()\n",
        "    if not ret:\n",
        "        break\n",
        "\n",
        "    # Perform object detection\n",
        "    results = model(frame)\n",
        "\n",
        "    # Visualize results\n",
        "    for r in results:\n",
        "        for box in r.boxes:\n",
        "            x1, y1, x2, y2 = map(int, box.xyxy[0])  # Bounding box coordinates\n",
        "            conf = box.conf[0]  # Confidence score\n",
        "            cls = int(box.cls[0])  # Class ID\n",
        "\n",
        "            # Draw bounding box\n",
        "            cv2.rectangle(frame, (x1, y1), (x2, y2), (0, 255, 0), 2)\n",
        "            label = f\"Plastic: {conf:.2f}\"\n",
        "            cv2.putText(frame, label, (x1, y1 - 10), cv2.FONT_HERSHEY_SIMPLEX, 0.5, (0, 255, 0), 2)\n",
        "\n",
        "    # Show video feed\n",
        "    cv2.imshow(\"Plastic Detection\", frame)\n",
        "\n",
        "    # Press 'q' to exit\n",
        "    if cv2.waitKey(1) & 0xFF == ord('q'):\n",
        "        break\n",
        "\n",
        "cap.release()\n",
        "cv2.destroyAllWindows()\n"
      ],
      "metadata": {
        "colab": {
          "base_uri": "https://localhost:8080/"
        },
        "id": "Y6b1a5FDWLNO",
        "outputId": "d9fd156e-d3f3-4326-9bb6-8b3c3bf5061a"
      },
      "execution_count": null,
      "outputs": [
        {
          "output_type": "stream",
          "name": "stdout",
          "text": [
            "Overwriting /content/drive/MyDrive/data/detect.py\n"
          ]
        }
      ]
    },
    {
      "source": [
        "!python3 /content/drive/MyDrive/data/detect.py"
      ],
      "cell_type": "code",
      "metadata": {
        "colab": {
          "base_uri": "https://localhost:8080/"
        },
        "id": "Vzjl7igpW3uj",
        "outputId": "90d3ef25-b50a-4739-f62a-8e50784020e6"
      },
      "execution_count": null,
      "outputs": [
        {
          "output_type": "stream",
          "name": "stdout",
          "text": [
            "[ WARN:0@1.778] global cap_v4l.cpp:913 open VIDEOIO(V4L2:/dev/video2): can't open camera by index\n",
            "[ERROR:0@1.778] global obsensor_uvc_stream_channel.cpp:158 getStreamChannelGroup Camera index out of range\n"
          ]
        }
      ]
    },
    {
      "cell_type": "code",
      "source": [
        "import cv2\n",
        "\n",
        "cap = cv2.VideoCapture(2, cv2.CAP_DSHOW)\n",
        "\n",
        "if not cap.isOpened():\n",
        "    print(\"Error: Could not access webcam\")\n",
        "else:\n",
        "    print(\"Webcam is working!\")\n",
        "\n",
        "cap.release()\n",
        "cv2.destroyAllWindows()\n"
      ],
      "metadata": {
        "colab": {
          "base_uri": "https://localhost:8080/"
        },
        "id": "qDNa4W0LWzbQ",
        "outputId": "030578f8-efe4-4af1-c6a9-1544e74299a5"
      },
      "execution_count": null,
      "outputs": [
        {
          "output_type": "stream",
          "name": "stdout",
          "text": [
            "Error: Could not access webcam\n"
          ]
        }
      ]
    },
    {
      "cell_type": "code",
      "source": [
        "!yolo task=detect mode=predict model=runs/detect/train/weights/best.pt conf=0.25 source=/content/drive/MyDrive/data/test/images"
      ],
      "metadata": {
        "colab": {
          "base_uri": "https://localhost:8080/"
        },
        "id": "ereWBuhXXuyF",
        "outputId": "57c20764-e752-43cb-f7b9-6caa00185c24"
      },
      "execution_count": null,
      "outputs": [
        {
          "output_type": "stream",
          "name": "stdout",
          "text": [
            "Ultralytics 8.3.73 🚀 Python-3.11.11 torch-2.5.1+cu124 CPU (Intel Xeon 2.20GHz)\n",
            "Model summary (fused): 168 layers, 3,005,843 parameters, 0 gradients, 8.1 GFLOPs\n",
            "\n",
            "image 1/99 /content/drive/MyDrive/data/test/images/plastic315_jpg.rf.90c86f0b5017559ded7a3ab13da30deb.jpg: 640x640 1 plastic, 420.7ms\n",
            "image 2/99 /content/drive/MyDrive/data/test/images/plastic316_jpg.rf.9c205ad5c6489e90a2ca94f4f0cd5a4c.jpg: 640x640 1 plastic, 354.5ms\n",
            "image 3/99 /content/drive/MyDrive/data/test/images/plastic317_jpg.rf.9da06164a69f3bff78275995fe27156a.jpg: 640x640 1 plastic, 367.6ms\n",
            "image 4/99 /content/drive/MyDrive/data/test/images/plastic318_jpg.rf.7acfb2e7ae673920a1bd4cdb0bd96e4a.jpg: 640x640 1 plastic, 221.0ms\n",
            "image 5/99 /content/drive/MyDrive/data/test/images/plastic319_jpg.rf.e7a000706a60c7e084f564b6dce5ecfa.jpg: 640x640 1 plastic, 203.8ms\n",
            "image 6/99 /content/drive/MyDrive/data/test/images/plastic320_jpg.rf.73540b26538e5beb58f2464b23c4e5c5.jpg: 640x640 1 plastic, 204.3ms\n",
            "image 7/99 /content/drive/MyDrive/data/test/images/plastic321_jpg.rf.76dbec6e6cf548579d000c1d919fe2a6.jpg: 640x640 1 plastic, 230.7ms\n",
            "image 8/99 /content/drive/MyDrive/data/test/images/plastic322_jpg.rf.ae385bb5fef7d1775aee5bfb275c4094.jpg: 640x640 1 plastic, 210.6ms\n",
            "image 9/99 /content/drive/MyDrive/data/test/images/plastic323_jpg.rf.ff232d1cfccadd4aa19a6b10145a2569.jpg: 640x640 1 plastic, 207.9ms\n",
            "image 10/99 /content/drive/MyDrive/data/test/images/plastic324_jpg.rf.b9b82e7004402487d807598f09715466.jpg: 640x640 1 plastic, 214.7ms\n",
            "image 11/99 /content/drive/MyDrive/data/test/images/plastic325_jpg.rf.43b9fd229c158b7797d8e9b04a1a3d12.jpg: 640x640 1 plastic, 207.3ms\n",
            "image 12/99 /content/drive/MyDrive/data/test/images/plastic326_jpg.rf.baabcefb551c3d8e31dc9cb086dcf55e.jpg: 640x640 1 plastic, 319.5ms\n",
            "image 13/99 /content/drive/MyDrive/data/test/images/plastic327_jpg.rf.8f3effc02390a21a60cde90254a87531.jpg: 640x640 1 plastic, 357.8ms\n",
            "image 14/99 /content/drive/MyDrive/data/test/images/plastic328_jpg.rf.5b08ee50381c4b627b11a1ae23f6d043.jpg: 640x640 1 plastic, 217.6ms\n",
            "image 15/99 /content/drive/MyDrive/data/test/images/plastic329_jpg.rf.69357671c2153b34336b5225c222eef2.jpg: 640x640 1 plastic, 208.5ms\n",
            "image 16/99 /content/drive/MyDrive/data/test/images/plastic32_jpg.rf.ab63114f76fbeb13a49ddc98d95b4d39.jpg: 640x640 1 plastic, 204.8ms\n",
            "image 17/99 /content/drive/MyDrive/data/test/images/plastic330_jpg.rf.8ed29533c9fcb2105dcc3b646fa604ec.jpg: 640x640 1 plastic, 208.8ms\n",
            "image 18/99 /content/drive/MyDrive/data/test/images/plastic331_jpg.rf.dd90b0dacbdc6a71206fae7f00f65357.jpg: 640x640 1 plastic, 249.8ms\n",
            "image 19/99 /content/drive/MyDrive/data/test/images/plastic332_jpg.rf.369d939bd0936e0004f90c878c7adbbd.jpg: 640x640 1 plastic, 225.6ms\n",
            "image 20/99 /content/drive/MyDrive/data/test/images/plastic333_jpg.rf.73b6593daa1ce723d9657dea1a993dec.jpg: 640x640 1 plastic, 229.1ms\n",
            "image 21/99 /content/drive/MyDrive/data/test/images/plastic334_jpg.rf.03c09fe6bf5a18700baa33b2e3e175ae.jpg: 640x640 1 plastic, 235.8ms\n",
            "image 22/99 /content/drive/MyDrive/data/test/images/plastic335_jpg.rf.33c9b258d6dccbb12ac85bbfd23b45aa.jpg: 640x640 1 plastic, 215.7ms\n",
            "image 23/99 /content/drive/MyDrive/data/test/images/plastic336_jpg.rf.56d48ae09cd8bc2cc34627d5705ece94.jpg: 640x640 1 plastic, 343.7ms\n",
            "image 24/99 /content/drive/MyDrive/data/test/images/plastic337_jpg.rf.36cceb718ee3668b72a0ed4a2d945526.jpg: 640x640 1 plastic, 353.6ms\n",
            "image 25/99 /content/drive/MyDrive/data/test/images/plastic338_jpg.rf.bb0e464681a23b21366bc17a073ea85f.jpg: 640x640 2 plastics, 341.2ms\n",
            "image 26/99 /content/drive/MyDrive/data/test/images/plastic339_jpg.rf.90c0e4e0776ae76d12426174238c4288.jpg: 640x640 1 plastic, 234.8ms\n",
            "image 27/99 /content/drive/MyDrive/data/test/images/plastic33_jpg.rf.f4e25004cfcf1c66a43885bf1da6143a.jpg: 640x640 1 plastic, 219.1ms\n",
            "image 28/99 /content/drive/MyDrive/data/test/images/plastic340_jpg.rf.fd0d3854d46771100b150d82565dc2b1.jpg: 640x640 1 plastic, 213.0ms\n",
            "image 29/99 /content/drive/MyDrive/data/test/images/plastic341_jpg.rf.fcf28230304e732870c02656e497f3d1.jpg: 640x640 1 plastic, 208.5ms\n",
            "image 30/99 /content/drive/MyDrive/data/test/images/plastic342_jpg.rf.e1ff7ee549daf2cdc48f366630854279.jpg: 640x640 1 plastic, 234.9ms\n",
            "image 31/99 /content/drive/MyDrive/data/test/images/plastic343_jpg.rf.506024251a1f37328045f0ebcf4a0c80.jpg: 640x640 1 plastic, 208.5ms\n",
            "image 32/99 /content/drive/MyDrive/data/test/images/plastic344_jpg.rf.77f3f1bffceed972a6c7b4daa97e7701.jpg: 640x640 1 plastic, 211.3ms\n",
            "image 33/99 /content/drive/MyDrive/data/test/images/plastic345_jpg.rf.771b745696f3aebc3e2a761263745552.jpg: 640x640 1 plastic, 245.0ms\n",
            "image 34/99 /content/drive/MyDrive/data/test/images/plastic346_jpg.rf.471e2e33dfb159799838faa945213691.jpg: 640x640 1 plastic, 357.6ms\n",
            "image 35/99 /content/drive/MyDrive/data/test/images/plastic347_jpg.rf.f5d9c4dae6bb4767219ac43af105c5a1.jpg: 640x640 1 plastic, 352.2ms\n",
            "image 36/99 /content/drive/MyDrive/data/test/images/plastic348_jpg.rf.6daa233591c866963faa463febd65ffe.jpg: 640x640 1 plastic, 343.2ms\n",
            "image 37/99 /content/drive/MyDrive/data/test/images/plastic349_jpg.rf.84fc10c35f1f902d646b513e314af802.jpg: 640x640 1 plastic, 227.0ms\n",
            "image 38/99 /content/drive/MyDrive/data/test/images/plastic34_jpg.rf.93f946dadea977c314d8797ea9995e31.jpg: 640x640 1 plastic, 222.5ms\n",
            "image 39/99 /content/drive/MyDrive/data/test/images/plastic350_jpg.rf.843082755ccc7dc60c5a92d0db605d2f.jpg: 640x640 1 plastic, 208.9ms\n",
            "image 40/99 /content/drive/MyDrive/data/test/images/plastic351_jpg.rf.e1be56c3beda8ca20212e91d93287f7b.jpg: 640x640 1 plastic, 225.8ms\n",
            "image 41/99 /content/drive/MyDrive/data/test/images/plastic352_jpg.rf.fe0bd886523fcaf2d0f02e1a68129794.jpg: 640x640 1 plastic, 207.0ms\n",
            "image 42/99 /content/drive/MyDrive/data/test/images/plastic353_jpg.rf.34b2278ffcb321648e8dd9286c659bf2.jpg: 640x640 1 plastic, 242.9ms\n",
            "image 43/99 /content/drive/MyDrive/data/test/images/plastic354_jpg.rf.5e5deaa197889def14d1f84d74813d40.jpg: 640x640 1 plastic, 229.2ms\n",
            "image 44/99 /content/drive/MyDrive/data/test/images/plastic355_jpg.rf.a86905c00fe9525ee0f1c7030258cdc6.jpg: 640x640 1 plastic, 204.9ms\n",
            "image 45/99 /content/drive/MyDrive/data/test/images/plastic356_jpg.rf.f5f4326de55693124428b3fae3bb417c.jpg: 640x640 1 plastic, 315.2ms\n",
            "image 46/99 /content/drive/MyDrive/data/test/images/plastic357_jpg.rf.541e222a582a349780bd1e7bcdd3ceb9.jpg: 640x640 1 plastic, 368.5ms\n",
            "image 47/99 /content/drive/MyDrive/data/test/images/plastic358_jpg.rf.79dda85dd2264395b2dfb0cc476096f6.jpg: 640x640 1 plastic, 208.9ms\n",
            "image 48/99 /content/drive/MyDrive/data/test/images/plastic359_jpg.rf.bf70aef867b2cd68b18a5f9ea612fa8d.jpg: 640x640 1 plastic, 225.0ms\n",
            "image 49/99 /content/drive/MyDrive/data/test/images/plastic35_jpg.rf.a6e7c59576eb1fa10cc524036c7a28e4.jpg: 640x640 1 plastic, 217.3ms\n",
            "image 50/99 /content/drive/MyDrive/data/test/images/plastic360_jpg.rf.4ae8c65221998a2dff7d078d2da39fdb.jpg: 640x640 1 plastic, 225.5ms\n",
            "image 51/99 /content/drive/MyDrive/data/test/images/plastic361_jpg.rf.c6ebafff3900d026873a0362bc80d892.jpg: 640x640 1 plastic, 215.3ms\n",
            "image 52/99 /content/drive/MyDrive/data/test/images/plastic362_jpg.rf.0a1c377289e3d27ae7aab4b0410b8cf4.jpg: 640x640 1 plastic, 210.4ms\n",
            "image 53/99 /content/drive/MyDrive/data/test/images/plastic363_jpg.rf.2c87306391e31755084b650c785b24e3.jpg: 640x640 1 plastic, 250.7ms\n",
            "image 54/99 /content/drive/MyDrive/data/test/images/plastic364_jpg.rf.5a03311e82910c9f7605c62e36c5504d.jpg: 640x640 1 plastic, 219.4ms\n",
            "image 55/99 /content/drive/MyDrive/data/test/images/plastic365_jpg.rf.ef16c9a193dc8035c7e3d4fd7583cd77.jpg: 640x640 1 plastic, 277.7ms\n",
            "image 56/99 /content/drive/MyDrive/data/test/images/plastic366_jpg.rf.f5cd70c738bfc2a7ba9cd71668694aff.jpg: 640x640 1 plastic, 321.9ms\n",
            "image 57/99 /content/drive/MyDrive/data/test/images/plastic367_jpg.rf.6c84aa67b96f326bc5ed3c5c761686bf.jpg: 640x640 1 plastic, 358.8ms\n",
            "image 58/99 /content/drive/MyDrive/data/test/images/plastic368_jpg.rf.92d522fedb57b0dc1dbefc79f1aa43f4.jpg: 640x640 1 plastic, 223.4ms\n",
            "image 59/99 /content/drive/MyDrive/data/test/images/plastic369_jpg.rf.3bab32f7a152f718f4db645a903ed43c.jpg: 640x640 1 plastic, 209.9ms\n",
            "image 60/99 /content/drive/MyDrive/data/test/images/plastic36_jpg.rf.d7fa47a4fc9f9c5b3335628169acba8b.jpg: 640x640 1 plastic, 208.8ms\n",
            "image 61/99 /content/drive/MyDrive/data/test/images/plastic370_jpg.rf.3204213829dcc92cf09d341880ae1ef9.jpg: 640x640 1 plastic, 223.9ms\n",
            "image 62/99 /content/drive/MyDrive/data/test/images/plastic371_jpg.rf.8b4109bfc02f4eb7607144230b6f0024.jpg: 640x640 1 plastic, 210.0ms\n",
            "image 63/99 /content/drive/MyDrive/data/test/images/plastic372_jpg.rf.78f6704a1d99eaeb204826898280100a.jpg: 640x640 1 plastic, 219.4ms\n",
            "image 64/99 /content/drive/MyDrive/data/test/images/plastic373_jpg.rf.87b7c156d220f2bdd42333b714f2a0bc.jpg: 640x640 1 plastic, 227.8ms\n",
            "image 65/99 /content/drive/MyDrive/data/test/images/plastic374_jpg.rf.9f3ff7baec002f77edcf5fa32194836e.jpg: 640x640 1 plastic, 227.6ms\n",
            "image 66/99 /content/drive/MyDrive/data/test/images/plastic375_jpg.rf.663412a476f5c66c231e87ac05b1db13.jpg: 640x640 1 plastic, 286.6ms\n",
            "image 67/99 /content/drive/MyDrive/data/test/images/plastic376_jpg.rf.1cea2ad178b1b8fad31e5f6d127f1de4.jpg: 640x640 1 plastic, 349.9ms\n",
            "image 68/99 /content/drive/MyDrive/data/test/images/plastic377_jpg.rf.231aa82896229d271d86264650960a1d.jpg: 640x640 1 plastic, 343.8ms\n",
            "image 69/99 /content/drive/MyDrive/data/test/images/plastic378_jpg.rf.4c70160f3e0db8d9bcb4177dc464edcd.jpg: 640x640 2 plastics, 216.9ms\n",
            "image 70/99 /content/drive/MyDrive/data/test/images/plastic379_jpg.rf.101e261ad524ea56c6552d6cc212bf40.jpg: 640x640 1 plastic, 212.9ms\n",
            "image 71/99 /content/drive/MyDrive/data/test/images/plastic37_jpg.rf.bed198728cf5bb5bf458db2b04bb6440.jpg: 640x640 1 plastic, 218.0ms\n",
            "image 72/99 /content/drive/MyDrive/data/test/images/plastic380_jpg.rf.2019f8b2040104075bc39b75bf538923.jpg: 640x640 1 plastic, 204.1ms\n",
            "image 73/99 /content/drive/MyDrive/data/test/images/plastic381_jpg.rf.3a957f5437bc4522e3a0d109d46d303c.jpg: 640x640 1 plastic, 216.4ms\n",
            "image 74/99 /content/drive/MyDrive/data/test/images/plastic382_jpg.rf.d2d1a3ce3ac135689a10c7ad0563c2ca.jpg: 640x640 1 plastic, 206.1ms\n",
            "image 75/99 /content/drive/MyDrive/data/test/images/plastic383_jpg.rf.a43858178e2a25454788b433e80ce618.jpg: 640x640 1 plastic, 220.7ms\n",
            "image 76/99 /content/drive/MyDrive/data/test/images/plastic384_jpg.rf.47e6d50c39ad9dd352a385795ca10e6e.jpg: 640x640 1 plastic, 206.3ms\n",
            "image 77/99 /content/drive/MyDrive/data/test/images/plastic385_jpg.rf.507176d5ffe3d84591e284ee56f09f27.jpg: 640x640 1 plastic, 333.1ms\n",
            "image 78/99 /content/drive/MyDrive/data/test/images/plastic386_jpg.rf.d70c4c4685a74a37c14599dfe5acec66.jpg: 640x640 1 plastic, 365.7ms\n",
            "image 79/99 /content/drive/MyDrive/data/test/images/plastic387_jpg.rf.e41c9a913e10b3700c60796575edfbaa.jpg: 640x640 1 plastic, 355.9ms\n",
            "image 80/99 /content/drive/MyDrive/data/test/images/plastic388_jpg.rf.9c4c55996051911eb52f2fbbd55c43b8.jpg: 640x640 1 plastic, 216.9ms\n",
            "image 81/99 /content/drive/MyDrive/data/test/images/plastic389_jpg.rf.a70586e2eb35ef816a0e82b9863d37c0.jpg: 640x640 1 plastic, 210.0ms\n",
            "image 82/99 /content/drive/MyDrive/data/test/images/plastic38_jpg.rf.a175be0346e7a0e1c457953c8252ee01.jpg: 640x640 1 plastic, 227.7ms\n",
            "image 83/99 /content/drive/MyDrive/data/test/images/plastic390_jpg.rf.fe10f7571fa9245bd7d8322f49c31ace.jpg: 640x640 1 plastic, 231.3ms\n",
            "image 84/99 /content/drive/MyDrive/data/test/images/plastic391_jpg.rf.7f2dd580e798e14d28d550772764dbd9.jpg: 640x640 1 plastic, 223.3ms\n",
            "image 85/99 /content/drive/MyDrive/data/test/images/plastic392_jpg.rf.55ea9a17ad7f470730ab2ad7452f00c1.jpg: 640x640 1 plastic, 209.7ms\n",
            "image 86/99 /content/drive/MyDrive/data/test/images/plastic393_jpg.rf.0910701b863b4a796cf4b096bed4ffe5.jpg: 640x640 1 plastic, 220.4ms\n",
            "image 87/99 /content/drive/MyDrive/data/test/images/plastic394_jpg.rf.3debb23b6039f7491c5fe1f1d27a5e49.jpg: 640x640 1 plastic, 219.9ms\n",
            "image 88/99 /content/drive/MyDrive/data/test/images/plastic395_jpg.rf.44d0cc2543021020d8e2f82fe0a63ac3.jpg: 640x640 1 plastic, 338.4ms\n",
            "image 89/99 /content/drive/MyDrive/data/test/images/plastic396_jpg.rf.bee73f968af3febe8120a17d6691b84a.jpg: 640x640 1 plastic, 372.4ms\n",
            "image 90/99 /content/drive/MyDrive/data/test/images/plastic397_jpg.rf.dfa5fa0ebf64ffefa283ce2c42decb01.jpg: 640x640 1 plastic, 348.9ms\n",
            "image 91/99 /content/drive/MyDrive/data/test/images/plastic398_jpg.rf.87c6da2805769af211b37e6d908b8524.jpg: 640x640 1 plastic, 210.3ms\n",
            "image 92/99 /content/drive/MyDrive/data/test/images/plastic399_jpg.rf.e96435916da4eefbe16ed82be57b44e5.jpg: 640x640 1 plastic, 203.1ms\n",
            "image 93/99 /content/drive/MyDrive/data/test/images/plastic39_jpg.rf.a7ea1b1b764b7000dea9db32e1b78400.jpg: 640x640 1 plastic, 226.5ms\n",
            "image 94/99 /content/drive/MyDrive/data/test/images/plastic400_jpg.rf.8b8e67ad25a1ed8e4e68ae062082d0ab.jpg: 640x640 1 plastic, 211.8ms\n",
            "image 95/99 /content/drive/MyDrive/data/test/images/plastic401_jpg.rf.9e02b2e5f779d803cf4dd6004462100f.jpg: 640x640 1 plastic, 227.9ms\n",
            "image 96/99 /content/drive/MyDrive/data/test/images/plastic402_jpg.rf.254c65153de596b60f54efdb11975b84.jpg: 640x640 1 plastic, 209.0ms\n",
            "image 97/99 /content/drive/MyDrive/data/test/images/plastic40_jpg.rf.555c72d8719cf24ceb114ac875632016.jpg: 640x640 1 plastic, 226.0ms\n",
            "image 98/99 /content/drive/MyDrive/data/test/images/plastic410_jpg.rf.dddcd5bc3c648aa1b88c838bad104306.jpg: 640x640 1 plastic, 217.0ms\n",
            "image 99/99 /content/drive/MyDrive/data/test/images/plastic4_jpg.rf.84442769daae362561311b04787d3e08.jpg: 640x640 1 plastic, 343.9ms\n",
            "Speed: 4.0ms preprocess, 252.0ms inference, 1.1ms postprocess per image at shape (1, 3, 640, 640)\n",
            "Results saved to \u001b[1mruns/detect/predict\u001b[0m\n",
            "💡 Learn more at https://docs.ultralytics.com/modes/predict\n"
          ]
        }
      ]
    },
    {
      "cell_type": "code",
      "source": [],
      "metadata": {
        "id": "64pFUHTDYVDI"
      },
      "execution_count": null,
      "outputs": []
    }
  ]
}